{
 "cells": [
  {
   "cell_type": "markdown",
   "execution_count": null,
   "metadata": {},
   "source": [
    "## Introduction\n",
    "\n",
    "In this notebook, one of the last techniques that we applied is shown. A simple post-processing technique, as described in the associated [post](https://www.kaggle.com/c/jigsaw-multilingual-toxic-comment-classification/discussion/160986). The score gain is relatively low compared to other techniques we applied. However, it gave a steady increase (~0.0001) for each of languages es/tr/fr/ru both in public LB as private LB. This also secured our first place.\n",
    "\n",
    "\n",
    "Here, I present an example of how to use our earlier Russian subs to achieve the gain in score: going from public LB 9549 to 9550, and private LB 9532 to 9533. This be done in similar fashion with the other languages."
   ]
  },
  {
   "cell_type": "markdown",
   "execution_count": null,
   "metadata": {},
   "source": [
    "# Imports"
   ]
  },
  {
   "cell_type": "code",
   "execution_count": 1,
   "metadata": {
    "_cell_guid": "b1076dfc-b9ad-4769-8c92-a6c4dae69d19",
    "_uuid": "8f2839f25d086af736a60e9eeb907d3b93b6e0e5"
   },
   "outputs": [],
   "source": [
    "# General imports\n",
    "import numpy as np\n",
    "import pandas as pd\n",
    "import os"
   ]
  },
  {
   "cell_type": "code",
   "execution_count": 2,
   "metadata": {},
   "outputs": [],
   "source": [
    "# Specify lang\n",
    "LANG = \"ru\"\n",
    "DIR = f\"../input/{LANG}-changed-subs/\"\n",
    "WEIGHT = 1 # we kept WEIGHT between 1-2"
   ]
  },
  {
   "cell_type": "code",
   "execution_count": 3,
   "metadata": {},
   "outputs": [],
   "source": [
    "submission = pd.read_csv(\"../input/jigsaw-multilingual-toxic-comment-classification/sample_submission.csv\")\n",
    "test = pd.read_csv(\"../input/jigsaw-multilingual-toxic-comment-classification/test.csv\")\n",
    "sub_best = pd.read_csv(os.path.join(DIR, \"sub-LB-9549.csv\"))"
   ]
  },
  {
   "cell_type": "code",
   "execution_count": 4,
   "metadata": {},
   "outputs": [
    {
     "name": "stdout",
     "output_type": "stream",
     "text": [
      "11\n"
     ]
    },
    {
     "data": {
      "text/plain": [
       "['ru-9373.csv',\n",
       " 'ru-9397.csv',\n",
       " 'ru-9475.csv',\n",
       " 'ru-9476.csv',\n",
       " 'ru-9510.csv',\n",
       " 'ru-9529.csv',\n",
       " 'ru-9543-from-9545.csv',\n",
       " 'ru-9543.csv',\n",
       " 'ru-9544.csv',\n",
       " 'ru-9545.csv',\n",
       " 'sub-LB-9549.csv']"
      ]
     },
     "execution_count": 4,
     "metadata": {},
     "output_type": "execute_result"
    }
   ],
   "source": [
    "files_sub = os.listdir(DIR)\n",
    "files_sub = sorted(files_sub)\n",
    "print(len(files_sub))\n",
    "files_sub"
   ]
  },
  {
   "cell_type": "code",
   "execution_count": 5,
   "metadata": {},
   "outputs": [],
   "source": [
    "for file in files_sub:\n",
    "    test[file.replace(\".csv\", \"\")] = pd.read_csv(os.path.join(DIR, file))[\"toxic\"]"
   ]
  },
  {
   "cell_type": "code",
   "execution_count": 6,
   "metadata": {},
   "outputs": [
    {
     "data": {
      "text/html": [
       "<div>\n",
       "<style scoped>\n",
       "    .dataframe tbody tr th:only-of-type {\n",
       "        vertical-align: middle;\n",
       "    }\n",
       "\n",
       "    .dataframe tbody tr th {\n",
       "        vertical-align: top;\n",
       "    }\n",
       "\n",
       "    .dataframe thead th {\n",
       "        text-align: right;\n",
       "    }\n",
       "</style>\n",
       "<table border=\"1\" class=\"dataframe\">\n",
       "  <thead>\n",
       "    <tr style=\"text-align: right;\">\n",
       "      <th></th>\n",
       "      <th>id</th>\n",
       "      <th>content</th>\n",
       "      <th>lang</th>\n",
       "      <th>ru-9373</th>\n",
       "      <th>ru-9397</th>\n",
       "      <th>ru-9475</th>\n",
       "      <th>ru-9476</th>\n",
       "      <th>ru-9510</th>\n",
       "      <th>ru-9529</th>\n",
       "      <th>ru-9543-from-9545</th>\n",
       "      <th>ru-9543</th>\n",
       "      <th>ru-9544</th>\n",
       "      <th>ru-9545</th>\n",
       "      <th>sub-LB-9549</th>\n",
       "    </tr>\n",
       "  </thead>\n",
       "  <tbody>\n",
       "    <tr>\n",
       "      <th>0</th>\n",
       "      <td>1</td>\n",
       "      <td>Вполне возможно, но я пока не вижу необходимо...</td>\n",
       "      <td>ru</td>\n",
       "      <td>0.002257</td>\n",
       "      <td>0.001381</td>\n",
       "      <td>0.016488</td>\n",
       "      <td>0.010881</td>\n",
       "      <td>0.005752</td>\n",
       "      <td>0.00865</td>\n",
       "      <td>0.00714</td>\n",
       "      <td>0.00865</td>\n",
       "      <td>0.009582</td>\n",
       "      <td>0.00846</td>\n",
       "      <td>0.00846</td>\n",
       "    </tr>\n",
       "  </tbody>\n",
       "</table>\n",
       "</div>"
      ],
      "text/plain": [
       "   id                                            content lang   ru-9373  \\\n",
       "0   1   Вполне возможно, но я пока не вижу необходимо...   ru  0.002257   \n",
       "\n",
       "    ru-9397   ru-9475   ru-9476   ru-9510  ru-9529  ru-9543-from-9545  \\\n",
       "0  0.001381  0.016488  0.010881  0.005752  0.00865            0.00714   \n",
       "\n",
       "   ru-9543   ru-9544  ru-9545  sub-LB-9549  \n",
       "0  0.00865  0.009582  0.00846      0.00846  "
      ]
     },
     "execution_count": 6,
     "metadata": {},
     "output_type": "execute_result"
    }
   ],
   "source": [
    "test = test.loc[test[\"lang\"]==LANG].reset_index(drop=True)\n",
    "test.head(1)"
   ]
  },
  {
   "cell_type": "code",
   "execution_count": 7,
   "metadata": {},
   "outputs": [],
   "source": [
    "# Derive the given sub increases or decreases in score\n",
    "test[\"diff_good1\"] = test[f\"{LANG}-9397\"] - test[f\"{LANG}-9373\"]\n",
    "test[\"diff_good2\"] = test[f\"{LANG}-9476\"] - test[f\"{LANG}-9475\"]\n",
    "test[\"diff_good3\"] = test[f\"{LANG}-9529\"] - test[f\"{LANG}-9510\"]\n",
    "test[\"diff_good4\"] = test[f\"{LANG}-9544\"] - test[f\"{LANG}-9543\"]\n",
    "\n",
    "test[\"diff_bad1\"] = test[f\"{LANG}-9545\"] - test[f\"{LANG}-9543-from-9545\"]"
   ]
  },
  {
   "cell_type": "code",
   "execution_count": 8,
   "metadata": {},
   "outputs": [],
   "source": [
    "test[\"sub_best\"] = test[\"sub-LB-9549\"]\n",
    "col_comment = [\"id\", \"content\", \"sub_best\"]\n",
    "col_diff = [column for column in test.columns if \"diff\" in column]\n",
    "test_diff = test[col_comment + col_diff].reset_index(drop=True)\n",
    "\n",
    "test_diff[\"diff_avg\"] = test_diff[col_diff].mean(axis=1) # the mean trend"
   ]
  },
  {
   "cell_type": "code",
   "execution_count": 9,
   "metadata": {},
   "outputs": [],
   "source": [
    "# Apply the post-processing technique in one line (as explained in the pseudo-code of my post.\n",
    "test_diff[\"sub_new\"] = test_diff.apply(lambda x: (1+WEIGHT*x[\"diff_avg\"])*x[\"sub_best\"] if x[\"diff_avg\"]<0 else (1-WEIGHT*x[\"diff_avg\"])*x[\"sub_best\"] + WEIGHT*x[\"diff_avg\"] , axis=1)"
   ]
  },
  {
   "cell_type": "code",
   "execution_count": 10,
   "metadata": {},
   "outputs": [],
   "source": [
    "submission[\"toxic\"] = sub_best[\"toxic\"]\n",
    "submission.loc[test[\"id\"], \"toxic\"] = test_diff[\"sub_new\"].values\n",
    "submission.to_csv(\"submission.csv\", index=False)"
   ]
  }
 ],
 "metadata": {
  "kernelspec": {
   "display_name": "Python 3",
   "language": "python",
   "name": "python3"
  },
  "language_info": {
   "codemirror_mode": {
    "name": "ipython",
    "version": 3
   },
   "file_extension": ".py",
   "mimetype": "text/x-python",
   "name": "python",
   "nbconvert_exporter": "python",
   "pygments_lexer": "ipython3",
   "version": "3.7.6"
  }
 },
 "nbformat": 4,
 "nbformat_minor": 4
}
